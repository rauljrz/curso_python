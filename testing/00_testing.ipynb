{
 "cells": [
  {
   "cell_type": "markdown",
   "metadata": {},
   "source": [
    "![](https://files.realpython.com/media/YXhT6fA.d277d5317026.gif)"
   ]
  },
  {
   "cell_type": "code",
   "execution_count": null,
   "metadata": {},
   "outputs": [],
   "source": [
    "# import requests\n",
    "\n",
    "# with open(\"mynote.ipynb\", \"w\") as f:\n",
    "#     f.write(requests.get(\"https://raw.githubusercontent.com/polyrand/teach/master/05_testing/testing.ipynb\").text)"
   ]
  },
  {
   "cell_type": "code",
   "execution_count": null,
   "metadata": {},
   "outputs": [],
   "source": [
    "# !pip install ipytest"
   ]
  },
  {
   "cell_type": "code",
   "execution_count": null,
   "metadata": {},
   "outputs": [],
   "source": [
    "import warnings\n",
    "\n",
    "warnings.filterwarnings(\"ignore\")"
   ]
  },
  {
   "cell_type": "code",
   "execution_count": null,
   "metadata": {},
   "outputs": [],
   "source": [
    "import pytest\n",
    "\n",
    "import ipytest\n",
    "ipytest.config(rewrite_asserts=True, magics=True)\n",
    "\n",
    "__file__ = \"testing.ipynb\""
   ]
  },
  {
   "cell_type": "code",
   "execution_count": null,
   "metadata": {},
   "outputs": [],
   "source": [
    "assert [1, 2, 3] == [1, 2, 3]"
   ]
  },
  {
   "cell_type": "code",
   "execution_count": null,
   "metadata": {},
   "outputs": [],
   "source": [
    "num = 1.25\n",
    "assert isinstance(num, int), f\"La variable num debe ser un entero pero es: {num}\""
   ]
  },
  {
   "cell_type": "code",
   "execution_count": null,
   "metadata": {},
   "outputs": [],
   "source": [
    "def test_example():\n",
    "    assert [1, 2, 3] == [1, 2, 3]"
   ]
  },
  {
   "cell_type": "code",
   "execution_count": null,
   "metadata": {},
   "outputs": [],
   "source": [
    "def capital_case(x):\n",
    "    \n",
    "    return x.capitalize()"
   ]
  },
  {
   "cell_type": "code",
   "execution_count": null,
   "metadata": {},
   "outputs": [],
   "source": [
    "capital_case(\"un texto\")"
   ]
  },
  {
   "cell_type": "code",
   "execution_count": null,
   "metadata": {},
   "outputs": [],
   "source": [
    "%%run_pytest[clean]\n",
    "\n",
    "def test_capital_case():\n",
    "    assert capital_case(\"semaphore\") == \"Semaphore\"\n",
    "    assert capital_case(\"python\") == \"Python\"\n",
    "    assert capital_case(\"curso\") == \"Curso\""
   ]
  },
  {
   "cell_type": "code",
   "execution_count": null,
   "metadata": {},
   "outputs": [],
   "source": [
    "%%run_pytest[clean] -qq\n",
    "import pytest\n",
    "\n",
    "\n",
    "@pytest.fixture\n",
    "def supply_AA_BB_CC():\n",
    "    aa = 25\n",
    "    bb = 35\n",
    "    cc = 45\n",
    "    return [aa, bb, cc]\n",
    "\n",
    "\n",
    "def test_comparewithAA(supply_AA_BB_CC):\n",
    "    zz = 25\n",
    "    assert supply_AA_BB_CC[0] == zz, \"aa and zz comparison failed\"\n",
    "\n",
    "\n",
    "def test_comparewithBB(supply_AA_BB_CC):\n",
    "    zz = 35\n",
    "    assert supply_AA_BB_CC[1] == zz, \"bb and zz comparison failed\"\n",
    "\n",
    "\n",
    "def test_comparewithCC(supply_AA_BB_CC):\n",
    "    zz = 25\n",
    "    assert supply_AA_BB_CC[2] == zz, \"cc and zz comparison failed\""
   ]
  },
  {
   "cell_type": "markdown",
   "metadata": {},
   "source": [
    "## Ejercicio\n",
    "\n",
    "Crear test para las dos siguientes funciones."
   ]
  },
  {
   "cell_type": "code",
   "execution_count": null,
   "metadata": {},
   "outputs": [],
   "source": [
    "def maximo(valores):\n",
    "    \"\"\"Calcula el valor maximo de un iterable.\n",
    "    \n",
    "    Si se encuentra un `str` hará aosdnad\n",
    "    \n",
    "    >>> ...\n",
    "    ...\n",
    "    \n",
    "    \n",
    "    \"\"\"\n",
    "\n",
    "    max_valor = valores[0]\n",
    "\n",
    "    for val in valores:\n",
    "        if val > max_valor:\n",
    "            max_valor = val\n",
    "\n",
    "    return max_valor\n",
    "\n",
    "\n",
    "def minimo(valores):\n",
    "\n",
    "    min_valor = valores[0]\n",
    "\n",
    "    for val in valores:\n",
    "        if val < min_valor:\n",
    "            min_valor = val\n",
    "\n",
    "    return min_valor"
   ]
  },
  {
   "cell_type": "code",
   "execution_count": null,
   "metadata": {},
   "outputs": [],
   "source": [
    "def maximo(valores):\n",
    "    \"\"\"Calcular el valor máximo de un iterable.\n",
    "    \n",
    "    >>> maximo([1,2,3,4,5,])\n",
    "    5\n",
    "    \n",
    "    >>> maximo([123123,-2,-234234,0])\n",
    "    123123\n",
    "    \"\"\"\n",
    "    \n",
    "    return max(valores)\n",
    "\n",
    "def minimo(valores):\n",
    "    \n",
    "    return min(valores)"
   ]
  },
  {
   "cell_type": "code",
   "execution_count": null,
   "metadata": {},
   "outputs": [],
   "source": [
    "import doctest\n",
    "doctest.testmod(verbose=True)"
   ]
  },
  {
   "cell_type": "code",
   "execution_count": null,
   "metadata": {},
   "outputs": [],
   "source": [
    "%%run_pytest[clean] -qq\n",
    "\n",
    "def test_minimo():\n",
    "    valores = (2, 3, 1, 4, 6)\n",
    "\n",
    "    val = minimo(valores)\n",
    "    assert val == 1\n",
    "    \n",
    "    assert minimo([8,0,4]) == 0\n",
    "    \n",
    "\n",
    "\n",
    "def test_maximo():\n",
    "    valores = (2, 3, 1, 4, 6)\n",
    "\n",
    "    val = maximo(valores)\n",
    "    assert val == 6"
   ]
  },
  {
   "cell_type": "code",
   "execution_count": null,
   "metadata": {},
   "outputs": [],
   "source": [
    "%%run_pytest[clean] -m cursopython\n",
    "\n",
    "\n",
    "@pytest.mark.cursopython\n",
    "def test_b1():\n",
    "\n",
    "    assert \"falcon\" == \"fal\" + \"con\"\n",
    "    \n",
    "    \n",
    "@pytest.mark.cursopython2\n",
    "def test_b12():\n",
    "\n",
    "    assert \"falcon\" == \"fal\" + \"con\""
   ]
  },
  {
   "cell_type": "code",
   "execution_count": null,
   "metadata": {},
   "outputs": [],
   "source": []
  },
  {
   "cell_type": "code",
   "execution_count": null,
   "metadata": {},
   "outputs": [],
   "source": []
  },
  {
   "cell_type": "code",
   "execution_count": null,
   "metadata": {},
   "outputs": [],
   "source": [
    "%%run_pytest[clean]\n",
    "\n",
    "\n",
    "@pytest.mark.parametrize(\n",
    "    \"valores,resultado\",\n",
    "    [\n",
    "        ([30, 20, 10], 10),\n",
    "        ([200000, -1, 12], -1),\n",
    "        ([30, 20, 10], \"asd\"),\n",
    "        ([30, 20, 10], 10),\n",
    "    ],\n",
    ")\n",
    "def test_parser_xml(valores, resultado):\n",
    "\n",
    "    min_valor = valores[0]\n",
    "\n",
    "    for val in valores:\n",
    "        if val < min_valor:\n",
    "            min_valor = val\n",
    "\n",
    "    assert min_valor == resultado"
   ]
  },
  {
   "cell_type": "code",
   "execution_count": null,
   "metadata": {},
   "outputs": [],
   "source": []
  },
  {
   "cell_type": "code",
   "execution_count": null,
   "metadata": {},
   "outputs": [],
   "source": []
  },
  {
   "cell_type": "markdown",
   "metadata": {},
   "source": [
    "## Unit Tests"
   ]
  },
  {
   "cell_type": "code",
   "execution_count": null,
   "metadata": {},
   "outputs": [],
   "source": [
    "import unittest\n",
    "\n",
    "\n",
    "class TestDemo(unittest.TestCase):\n",
    "    \"\"\"Example of how to use unittest in Jupyter.\"\"\"\n",
    "\n",
    "    def test(self):\n",
    "        self.assertEqual(\"foo\".upper(), \"FOO\")"
   ]
  },
  {
   "cell_type": "code",
   "execution_count": null,
   "metadata": {},
   "outputs": [],
   "source": [
    "if __name__ == \"__main__\":\n",
    "    unittest.main(argv=[\"first-arg-is-ignored\"], exit=False)"
   ]
  },
  {
   "cell_type": "markdown",
   "metadata": {},
   "source": [
    "## Doctests"
   ]
  },
  {
   "cell_type": "code",
   "execution_count": null,
   "metadata": {},
   "outputs": [],
   "source": [
    "def add(a, b):\n",
    "    \"\"\"\n",
    "    Suma dos elementos.\n",
    "    \n",
    "    \n",
    "    >>> add(2, 2)\n",
    "    4\n",
    "    \n",
    "    >>> add(10, 2)\n",
    "    12\n",
    "    \n",
    "    >>> add(125, 3)\n",
    "    128\n",
    "    \"\"\"\n",
    "    \n",
    "    return a + b"
   ]
  },
  {
   "cell_type": "code",
   "execution_count": null,
   "metadata": {},
   "outputs": [],
   "source": [
    "import doctest\n",
    "doctest.testmod(verbose=True)"
   ]
  },
  {
   "cell_type": "code",
   "execution_count": null,
   "metadata": {},
   "outputs": [],
   "source": [
    "datos_servers = {\n",
    "    \"server_1\": [1,2,3],\n",
    "    \"server_2\": [2,3,4],\n",
    "    \"server_3\": [4,5,6],\n",
    "    \"año\": 2020,\n",
    "    \"admin\": \"ricardo\",\n",
    "    \n",
    "}"
   ]
  },
  {
   "cell_type": "code",
   "execution_count": null,
   "metadata": {},
   "outputs": [],
   "source": [
    "## ejercicio escribir doctest para esta función\n",
    "\n",
    "def filtrar_diccionario(dd):\n",
    "    \"\"\"\n",
    "    Devuelve las llaves de un diccionario que empiezan por 'server_'.\n",
    "    \n",
    "    Si la palabra 'server_' está en mitad de la key, no la captura,\n",
    "    solamente si está al principio.\n",
    "    \n",
    "    >>> datos_servers = {\n",
    "    ... \"server_1\": [1,2,3],\n",
    "    ... \"server_2\": [2,3,4],\n",
    "    ... \"server_3\": [4,5,6],\n",
    "    ... \"año\": 2020,\n",
    "    ... \"admin\": \"ricardo\",\n",
    "    ... }\n",
    "    \n",
    "    >>> datos_servers_2 = {\n",
    "    ... \"hola_server_1\": [1,2,3],\n",
    "    ... \"server_2\": [2,3,4],\n",
    "    ... \"server_3\": [4,5,6],\n",
    "    ... \"año\": 2020,\n",
    "    ... \"admin\": \"ricardo\",\n",
    "    ... }\n",
    "    \n",
    "    >>> filtrar_diccionario(datos_servers)\n",
    "    ['server_1', 'server_2', 'server_3']\n",
    "    \n",
    "    >>> filtrar_diccionario(datos_servers_2)\n",
    "    ['server_2', 'server_3']\n",
    "    \n",
    "    >>> filtrar_diccionario({})\n",
    "    []\n",
    "    \n",
    "    \n",
    "    \"\"\"\n",
    "    keys = []\n",
    "    \n",
    "    for llave in dd.keys():\n",
    "        if llave.startswith(\"server_\"):\n",
    "            keys.append(llave)\n",
    "            \n",
    "    return keys"
   ]
  },
  {
   "cell_type": "code",
   "execution_count": null,
   "metadata": {},
   "outputs": [],
   "source": [
    "filtrar_diccionario(datos_servers)"
   ]
  },
  {
   "cell_type": "code",
   "execution_count": null,
   "metadata": {},
   "outputs": [],
   "source": [
    "import doctest\n",
    "doctest.testmod(verbose=True)"
   ]
  },
  {
   "cell_type": "code",
   "execution_count": null,
   "metadata": {},
   "outputs": [],
   "source": [
    "help(doctest)"
   ]
  },
  {
   "cell_type": "code",
   "execution_count": null,
   "metadata": {},
   "outputs": [],
   "source": [
    "import doctest\n",
    "doctest.testmod(verbose=True)"
   ]
  },
  {
   "cell_type": "markdown",
   "metadata": {},
   "source": [
    "## Ejercicio\n",
    "\n",
    "Escribir doctests para las funciontes anteriores!!!"
   ]
  },
  {
   "cell_type": "markdown",
   "metadata": {},
   "source": [
    "```\n",
    "Directory structure that makes running tests easy\n",
    "Fuente: https://medium.com/@bfortuner/python-unit-testing-with-pytest-and-mock-197499c4623c\n",
    "\n",
    "/rootdir\n",
    "  /src\n",
    "    /jobitems \n",
    "      api.py \n",
    "      constants.py\n",
    "      manager.py \n",
    "      models.py \n",
    "      tasks.py\n",
    "  /tests \n",
    "    /integ_tests \n",
    "      /jobitems \n",
    "        test_manager.py\n",
    "    /unit_tests \n",
    "      /jobitems \n",
    "        test_manager.py \n",
    "requirements.py \n",
    "application.py\n",
    "\n",
    "\n",
    "How do I run these tests?\n",
    "\n",
    "\n",
    "python -m pytest tests/ (all tests)\n",
    "python -m pytest -k filenamekeyword (tests matching keyword)\n",
    "python -m pytest tests/utils/test_sample.py (single test file)\n",
    "python -m pytest tests/utils/test_sample.py::test_answer_correct (single test method)\n",
    "python -m pytest --resultlog=testlog.log tests/ (log output to file)\n",
    "python -m pytest -s tests/ (print output to console)\n",
    "````\n"
   ]
  },
  {
   "cell_type": "markdown",
   "metadata": {},
   "source": [
    "## Pytest Monekypatching"
   ]
  },
  {
   "cell_type": "code",
   "execution_count": null,
   "metadata": {},
   "outputs": [],
   "source": [
    "# contents of test_module.py with source code and the test\n",
    "from pathlib import Path\n",
    "\n",
    "\n",
    "def getssh():\n",
    "    \"\"\"Simple function to return expanded homedir ssh path.\"\"\"\n",
    "    return Path.home() / \".ssh\"\n",
    "\n",
    "\n",
    "def test_getssh(monkeypatch):\n",
    "    # mocked return function to replace Path.home\n",
    "    # always return '/abc'\n",
    "    def mockreturn():\n",
    "        return Path(\"/abc\")\n",
    "\n",
    "    # Application of the monkeypatch to replace Path.home\n",
    "    # with the behavior of mockreturn defined above.\n",
    "    monkeypatch.setattr(Path, \"home\", mockreturn)\n",
    "\n",
    "    # Calling getssh() will use mockreturn in place of Path.home\n",
    "    # for this test with the monkeypatch.\n",
    "    x = getssh()\n",
    "    assert x == Path(\"/abc/.ssh\")"
   ]
  },
  {
   "cell_type": "code",
   "execution_count": null,
   "metadata": {},
   "outputs": [],
   "source": [
    "class C:\n",
    "    def hola(self):\n",
    "        print(\"Hola\")"
   ]
  },
  {
   "cell_type": "code",
   "execution_count": null,
   "metadata": {},
   "outputs": [],
   "source": [
    "c = C()"
   ]
  },
  {
   "cell_type": "code",
   "execution_count": null,
   "metadata": {},
   "outputs": [],
   "source": [
    "c.hola()"
   ]
  },
  {
   "cell_type": "code",
   "execution_count": null,
   "metadata": {},
   "outputs": [],
   "source": [
    "setattr(C, \"adios\", lambda x: print(\"adios\"))"
   ]
  },
  {
   "cell_type": "code",
   "execution_count": null,
   "metadata": {},
   "outputs": [],
   "source": [
    "f = C()"
   ]
  },
  {
   "cell_type": "code",
   "execution_count": null,
   "metadata": {},
   "outputs": [],
   "source": [
    "f.adios()"
   ]
  }
 ],
 "metadata": {
  "kernelspec": {
   "display_name": "Python 3 (ipykernel)",
   "language": "python",
   "name": "python3"
  },
  "language_info": {
   "codemirror_mode": {
    "name": "ipython",
    "version": 3
   },
   "file_extension": ".py",
   "mimetype": "text/x-python",
   "name": "python",
   "nbconvert_exporter": "python",
   "pygments_lexer": "ipython3",
   "version": "3.10.2"
  }
 },
 "nbformat": 4,
 "nbformat_minor": 4
}
